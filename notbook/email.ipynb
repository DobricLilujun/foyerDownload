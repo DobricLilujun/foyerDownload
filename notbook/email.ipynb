{
 "cells": [
  {
   "cell_type": "markdown",
   "id": "60bb467d-861d-4b07-a48d-8e5aa177c969",
   "metadata": {},
   "source": [
    "# Email Extraction\n",
    "\n",
    "\n",
    "Let's evaluate an LLM on its ability to extract structured information from email texts."
   ]
  },
  {
   "cell_type": "code",
   "execution_count": 1,
   "id": "47de0d20-d20b-44be-9e41-d2275f0866e8",
   "metadata": {
    "tags": []
   },
   "outputs": [
    {
     "name": "stdout",
     "output_type": "stream",
     "text": [
      "Requirement already satisfied: langchain in /opt/anaconda3/envs/causalAnalysis/lib/python3.9/site-packages (0.2.3)\n",
      "Collecting langchain\n",
      "  Downloading langchain-0.3.3-py3-none-any.whl.metadata (7.1 kB)\n",
      "Collecting langchain_benchmarks\n",
      "  Downloading langchain_benchmarks-0.0.14-py3-none-any.whl.metadata (5.0 kB)\n",
      "Requirement already satisfied: openai in /opt/anaconda3/envs/causalAnalysis/lib/python3.9/site-packages (1.30.5)\n",
      "Collecting openai\n",
      "  Downloading openai-1.51.2-py3-none-any.whl.metadata (24 kB)\n",
      "Requirement already satisfied: rapidfuzz in /opt/anaconda3/envs/causalAnalysis/lib/python3.9/site-packages (3.0.0)\n",
      "Collecting rapidfuzz\n",
      "  Downloading rapidfuzz-3.10.0-cp39-cp39-macosx_11_0_arm64.whl.metadata (11 kB)\n",
      "Requirement already satisfied: PyYAML>=5.3 in /opt/anaconda3/envs/causalAnalysis/lib/python3.9/site-packages (from langchain) (6.0.1)\n",
      "Requirement already satisfied: SQLAlchemy<3,>=1.4 in /opt/anaconda3/envs/causalAnalysis/lib/python3.9/site-packages (from langchain) (2.0.30)\n",
      "Requirement already satisfied: aiohttp<4.0.0,>=3.8.3 in /opt/anaconda3/envs/causalAnalysis/lib/python3.9/site-packages (from langchain) (3.9.5)\n",
      "Requirement already satisfied: async-timeout<5.0.0,>=4.0.0 in /opt/anaconda3/envs/causalAnalysis/lib/python3.9/site-packages (from langchain) (4.0.3)\n",
      "Collecting langchain-core<0.4.0,>=0.3.10 (from langchain)\n",
      "  Downloading langchain_core-0.3.10-py3-none-any.whl.metadata (6.3 kB)\n",
      "Collecting langchain-text-splitters<0.4.0,>=0.3.0 (from langchain)\n",
      "  Downloading langchain_text_splitters-0.3.0-py3-none-any.whl.metadata (2.3 kB)\n",
      "Requirement already satisfied: langsmith<0.2.0,>=0.1.17 in /opt/anaconda3/envs/causalAnalysis/lib/python3.9/site-packages (from langchain) (0.1.75)\n",
      "Requirement already satisfied: numpy<2,>=1 in /opt/anaconda3/envs/causalAnalysis/lib/python3.9/site-packages (from langchain) (1.24.2)\n",
      "Collecting pydantic<3.0.0,>=2.7.4 (from langchain)\n",
      "  Using cached pydantic-2.9.2-py3-none-any.whl.metadata (149 kB)\n",
      "Requirement already satisfied: requests<3,>=2 in /opt/anaconda3/envs/causalAnalysis/lib/python3.9/site-packages (from langchain) (2.32.3)\n",
      "Requirement already satisfied: tenacity!=8.4.0,<9.0.0,>=8.1.0 in /opt/anaconda3/envs/causalAnalysis/lib/python3.9/site-packages (from langchain) (8.3.0)\n",
      "Requirement already satisfied: ipywidgets<9,>=8 in /opt/anaconda3/envs/causalAnalysis/lib/python3.9/site-packages (from langchain_benchmarks) (8.1.2)\n",
      "Collecting langchain\n",
      "  Downloading langchain-0.2.16-py3-none-any.whl.metadata (7.1 kB)\n",
      "Collecting langchain-community<0.3,>=0.2 (from langchain_benchmarks)\n",
      "  Downloading langchain_community-0.2.17-py3-none-any.whl.metadata (2.7 kB)\n",
      "Collecting langchain-openai<0.2.0,>=0.1.14 (from langchain_benchmarks)\n",
      "  Downloading langchain_openai-0.1.25-py3-none-any.whl.metadata (2.6 kB)\n",
      "Requirement already satisfied: tabulate>=0.8.0 in /opt/anaconda3/envs/causalAnalysis/lib/python3.9/site-packages (from langchain_benchmarks) (0.9.0)\n",
      "Requirement already satisfied: tqdm<5,>=4 in /opt/anaconda3/envs/causalAnalysis/lib/python3.9/site-packages (from langchain_benchmarks) (4.66.4)\n",
      "Collecting langchain-core<0.3.0,>=0.2.38 (from langchain)\n",
      "  Downloading langchain_core-0.2.41-py3-none-any.whl.metadata (6.2 kB)\n",
      "Requirement already satisfied: langchain-text-splitters<0.3.0,>=0.2.0 in /opt/anaconda3/envs/causalAnalysis/lib/python3.9/site-packages (from langchain) (0.2.1)\n",
      "Requirement already satisfied: pydantic<3,>=1 in /opt/anaconda3/envs/causalAnalysis/lib/python3.9/site-packages (from langchain) (2.7.1)\n",
      "Requirement already satisfied: anyio<5,>=3.5.0 in /opt/anaconda3/envs/causalAnalysis/lib/python3.9/site-packages (from openai) (4.4.0)\n",
      "Requirement already satisfied: distro<2,>=1.7.0 in /opt/anaconda3/envs/causalAnalysis/lib/python3.9/site-packages (from openai) (1.9.0)\n",
      "Requirement already satisfied: httpx<1,>=0.23.0 in /opt/anaconda3/envs/causalAnalysis/lib/python3.9/site-packages (from openai) (0.27.0)\n",
      "Collecting jiter<1,>=0.4.0 (from openai)\n",
      "  Downloading jiter-0.6.1-cp39-cp39-macosx_11_0_arm64.whl.metadata (5.2 kB)\n",
      "Requirement already satisfied: sniffio in /opt/anaconda3/envs/causalAnalysis/lib/python3.9/site-packages (from openai) (1.3.1)\n",
      "Requirement already satisfied: typing-extensions<5,>=4.11 in /opt/anaconda3/envs/causalAnalysis/lib/python3.9/site-packages (from openai) (4.11.0)\n",
      "Requirement already satisfied: aiosignal>=1.1.2 in /opt/anaconda3/envs/causalAnalysis/lib/python3.9/site-packages (from aiohttp<4.0.0,>=3.8.3->langchain) (1.3.1)\n",
      "Requirement already satisfied: attrs>=17.3.0 in /opt/anaconda3/envs/causalAnalysis/lib/python3.9/site-packages (from aiohttp<4.0.0,>=3.8.3->langchain) (23.2.0)\n",
      "Requirement already satisfied: frozenlist>=1.1.1 in /opt/anaconda3/envs/causalAnalysis/lib/python3.9/site-packages (from aiohttp<4.0.0,>=3.8.3->langchain) (1.4.1)\n",
      "Requirement already satisfied: multidict<7.0,>=4.5 in /opt/anaconda3/envs/causalAnalysis/lib/python3.9/site-packages (from aiohttp<4.0.0,>=3.8.3->langchain) (6.0.5)\n",
      "Requirement already satisfied: yarl<2.0,>=1.0 in /opt/anaconda3/envs/causalAnalysis/lib/python3.9/site-packages (from aiohttp<4.0.0,>=3.8.3->langchain) (1.9.4)\n",
      "Requirement already satisfied: idna>=2.8 in /opt/anaconda3/envs/causalAnalysis/lib/python3.9/site-packages (from anyio<5,>=3.5.0->openai) (3.7)\n",
      "Requirement already satisfied: exceptiongroup>=1.0.2 in /opt/anaconda3/envs/causalAnalysis/lib/python3.9/site-packages (from anyio<5,>=3.5.0->openai) (1.2.0)\n",
      "Requirement already satisfied: certifi in /opt/anaconda3/envs/causalAnalysis/lib/python3.9/site-packages (from httpx<1,>=0.23.0->openai) (2024.2.2)\n",
      "Requirement already satisfied: httpcore==1.* in /opt/anaconda3/envs/causalAnalysis/lib/python3.9/site-packages (from httpx<1,>=0.23.0->openai) (1.0.5)\n",
      "Requirement already satisfied: h11<0.15,>=0.13 in /opt/anaconda3/envs/causalAnalysis/lib/python3.9/site-packages (from httpcore==1.*->httpx<1,>=0.23.0->openai) (0.14.0)\n",
      "Requirement already satisfied: comm>=0.1.3 in /opt/anaconda3/envs/causalAnalysis/lib/python3.9/site-packages (from ipywidgets<9,>=8->langchain_benchmarks) (0.2.2)\n",
      "Requirement already satisfied: ipython>=6.1.0 in /opt/anaconda3/envs/causalAnalysis/lib/python3.9/site-packages (from ipywidgets<9,>=8->langchain_benchmarks) (8.18.1)\n",
      "Requirement already satisfied: traitlets>=4.3.1 in /opt/anaconda3/envs/causalAnalysis/lib/python3.9/site-packages (from ipywidgets<9,>=8->langchain_benchmarks) (5.14.3)\n",
      "Requirement already satisfied: widgetsnbextension~=4.0.10 in /opt/anaconda3/envs/causalAnalysis/lib/python3.9/site-packages (from ipywidgets<9,>=8->langchain_benchmarks) (4.0.10)\n",
      "Requirement already satisfied: jupyterlab-widgets~=3.0.10 in /opt/anaconda3/envs/causalAnalysis/lib/python3.9/site-packages (from ipywidgets<9,>=8->langchain_benchmarks) (3.0.10)\n",
      "Requirement already satisfied: dataclasses-json<0.7,>=0.5.7 in /opt/anaconda3/envs/causalAnalysis/lib/python3.9/site-packages (from langchain-community<0.3,>=0.2->langchain_benchmarks) (0.6.6)\n",
      "Collecting langsmith>=0.0.70 (from langchain_benchmarks)\n",
      "  Downloading langsmith-0.1.134-py3-none-any.whl.metadata (13 kB)\n",
      "Requirement already satisfied: jsonpatch<2.0,>=1.33 in /opt/anaconda3/envs/causalAnalysis/lib/python3.9/site-packages (from langchain-core<0.3.0,>=0.2.38->langchain) (1.33)\n",
      "Requirement already satisfied: packaging<25,>=23.2 in /opt/anaconda3/envs/causalAnalysis/lib/python3.9/site-packages (from langchain-core<0.3.0,>=0.2.38->langchain) (23.2)\n",
      "Requirement already satisfied: tiktoken<1,>=0.7 in /opt/anaconda3/envs/causalAnalysis/lib/python3.9/site-packages (from langchain-openai<0.2.0,>=0.1.14->langchain_benchmarks) (0.7.0)\n",
      "Requirement already satisfied: orjson<4.0.0,>=3.9.14 in /opt/anaconda3/envs/causalAnalysis/lib/python3.9/site-packages (from langsmith>=0.0.70->langchain_benchmarks) (3.10.3)\n",
      "Requirement already satisfied: requests-toolbelt<2.0.0,>=1.0.0 in /opt/anaconda3/envs/causalAnalysis/lib/python3.9/site-packages (from langsmith>=0.0.70->langchain_benchmarks) (1.0.0)\n",
      "Requirement already satisfied: annotated-types>=0.4.0 in /opt/anaconda3/envs/causalAnalysis/lib/python3.9/site-packages (from pydantic<3,>=1->langchain) (0.7.0)\n",
      "Requirement already satisfied: pydantic-core==2.18.2 in /opt/anaconda3/envs/causalAnalysis/lib/python3.9/site-packages (from pydantic<3,>=1->langchain) (2.18.2)\n",
      "Requirement already satisfied: charset-normalizer<4,>=2 in /opt/anaconda3/envs/causalAnalysis/lib/python3.9/site-packages (from requests<3,>=2->langchain) (3.3.2)\n",
      "Requirement already satisfied: urllib3<3,>=1.21.1 in /opt/anaconda3/envs/causalAnalysis/lib/python3.9/site-packages (from requests<3,>=2->langchain) (1.26.18)\n",
      "Requirement already satisfied: marshmallow<4.0.0,>=3.18.0 in /opt/anaconda3/envs/causalAnalysis/lib/python3.9/site-packages (from dataclasses-json<0.7,>=0.5.7->langchain-community<0.3,>=0.2->langchain_benchmarks) (3.21.3)\n",
      "Requirement already satisfied: typing-inspect<1,>=0.4.0 in /opt/anaconda3/envs/causalAnalysis/lib/python3.9/site-packages (from dataclasses-json<0.7,>=0.5.7->langchain-community<0.3,>=0.2->langchain_benchmarks) (0.9.0)\n",
      "Requirement already satisfied: decorator in /opt/anaconda3/envs/causalAnalysis/lib/python3.9/site-packages (from ipython>=6.1.0->ipywidgets<9,>=8->langchain_benchmarks) (5.1.1)\n",
      "Requirement already satisfied: jedi>=0.16 in /opt/anaconda3/envs/causalAnalysis/lib/python3.9/site-packages (from ipython>=6.1.0->ipywidgets<9,>=8->langchain_benchmarks) (0.19.1)\n",
      "Requirement already satisfied: matplotlib-inline in /opt/anaconda3/envs/causalAnalysis/lib/python3.9/site-packages (from ipython>=6.1.0->ipywidgets<9,>=8->langchain_benchmarks) (0.1.7)\n",
      "Requirement already satisfied: prompt-toolkit<3.1.0,>=3.0.41 in /opt/anaconda3/envs/causalAnalysis/lib/python3.9/site-packages (from ipython>=6.1.0->ipywidgets<9,>=8->langchain_benchmarks) (3.0.42)\n",
      "Requirement already satisfied: pygments>=2.4.0 in /opt/anaconda3/envs/causalAnalysis/lib/python3.9/site-packages (from ipython>=6.1.0->ipywidgets<9,>=8->langchain_benchmarks) (2.18.0)\n",
      "Requirement already satisfied: stack-data in /opt/anaconda3/envs/causalAnalysis/lib/python3.9/site-packages (from ipython>=6.1.0->ipywidgets<9,>=8->langchain_benchmarks) (0.6.2)\n",
      "Requirement already satisfied: pexpect>4.3 in /opt/anaconda3/envs/causalAnalysis/lib/python3.9/site-packages (from ipython>=6.1.0->ipywidgets<9,>=8->langchain_benchmarks) (4.9.0)\n",
      "Requirement already satisfied: jsonpointer>=1.9 in /opt/anaconda3/envs/causalAnalysis/lib/python3.9/site-packages (from jsonpatch<2.0,>=1.33->langchain-core<0.3.0,>=0.2.38->langchain) (2.4)\n",
      "Requirement already satisfied: regex>=2022.1.18 in /opt/anaconda3/envs/causalAnalysis/lib/python3.9/site-packages (from tiktoken<1,>=0.7->langchain-openai<0.2.0,>=0.1.14->langchain_benchmarks) (2024.5.15)\n",
      "Requirement already satisfied: parso<0.9.0,>=0.8.3 in /opt/anaconda3/envs/causalAnalysis/lib/python3.9/site-packages (from jedi>=0.16->ipython>=6.1.0->ipywidgets<9,>=8->langchain_benchmarks) (0.8.4)\n",
      "Requirement already satisfied: ptyprocess>=0.5 in /opt/anaconda3/envs/causalAnalysis/lib/python3.9/site-packages (from pexpect>4.3->ipython>=6.1.0->ipywidgets<9,>=8->langchain_benchmarks) (0.7.0)\n",
      "Requirement already satisfied: wcwidth in /opt/anaconda3/envs/causalAnalysis/lib/python3.9/site-packages (from prompt-toolkit<3.1.0,>=3.0.41->ipython>=6.1.0->ipywidgets<9,>=8->langchain_benchmarks) (0.2.13)\n",
      "Requirement already satisfied: mypy-extensions>=0.3.0 in /opt/anaconda3/envs/causalAnalysis/lib/python3.9/site-packages (from typing-inspect<1,>=0.4.0->dataclasses-json<0.7,>=0.5.7->langchain-community<0.3,>=0.2->langchain_benchmarks) (1.0.0)\n",
      "Requirement already satisfied: executing>=1.2.0 in /opt/anaconda3/envs/causalAnalysis/lib/python3.9/site-packages (from stack-data->ipython>=6.1.0->ipywidgets<9,>=8->langchain_benchmarks) (2.0.1)\n",
      "Requirement already satisfied: asttokens>=2.1.0 in /opt/anaconda3/envs/causalAnalysis/lib/python3.9/site-packages (from stack-data->ipython>=6.1.0->ipywidgets<9,>=8->langchain_benchmarks) (2.4.1)\n",
      "Requirement already satisfied: pure-eval in /opt/anaconda3/envs/causalAnalysis/lib/python3.9/site-packages (from stack-data->ipython>=6.1.0->ipywidgets<9,>=8->langchain_benchmarks) (0.2.2)\n",
      "Requirement already satisfied: six>=1.12.0 in /opt/anaconda3/envs/causalAnalysis/lib/python3.9/site-packages (from asttokens>=2.1.0->stack-data->ipython>=6.1.0->ipywidgets<9,>=8->langchain_benchmarks) (1.16.0)\n",
      "Downloading langchain_benchmarks-0.0.14-py3-none-any.whl (72 kB)\n",
      "\u001b[2K   \u001b[90m━━━━━━━━━━━━━━━━━━━━━━━━━━━━━━━━━━━━━━━━\u001b[0m \u001b[32m72.4/72.4 kB\u001b[0m \u001b[31m4.3 MB/s\u001b[0m eta \u001b[36m0:00:00\u001b[0m\n",
      "\u001b[?25hDownloading langchain-0.2.16-py3-none-any.whl (1.0 MB)\n",
      "\u001b[2K   \u001b[90m━━━━━━━━━━━━━━━━━━━━━━━━━━━━━━━━━━━━━━━━\u001b[0m \u001b[32m1.0/1.0 MB\u001b[0m \u001b[31m25.6 MB/s\u001b[0m eta \u001b[36m0:00:00\u001b[0m00:01\u001b[0m\n",
      "\u001b[?25hDownloading openai-1.51.2-py3-none-any.whl (383 kB)\n",
      "\u001b[2K   \u001b[90m━━━━━━━━━━━━━━━━━━━━━━━━━━━━━━━━━━━━━━━━\u001b[0m \u001b[32m383.7/383.7 kB\u001b[0m \u001b[31m27.4 MB/s\u001b[0m eta \u001b[36m0:00:00\u001b[0m\n",
      "\u001b[?25hDownloading rapidfuzz-3.10.0-cp39-cp39-macosx_11_0_arm64.whl (1.4 MB)\n",
      "\u001b[2K   \u001b[90m━━━━━━━━━━━━━━━━━━━━━━━━━━━━━━━━━━━━━━━━\u001b[0m \u001b[32m1.4/1.4 MB\u001b[0m \u001b[31m46.6 MB/s\u001b[0m eta \u001b[36m0:00:00\u001b[0m\n",
      "\u001b[?25hDownloading jiter-0.6.1-cp39-cp39-macosx_11_0_arm64.whl (289 kB)\n",
      "\u001b[2K   \u001b[90m━━━━━━━━━━━━━━━━━━━━━━━━━━━━━━━━━━━━━━━━\u001b[0m \u001b[32m289.4/289.4 kB\u001b[0m \u001b[31m28.2 MB/s\u001b[0m eta \u001b[36m0:00:00\u001b[0m\n",
      "\u001b[?25hDownloading langchain_community-0.2.17-py3-none-any.whl (2.3 MB)\n",
      "\u001b[2K   \u001b[90m━━━━━━━━━━━━━━━━━━━━━━━━━━━━━━━━━━━━━━━━\u001b[0m \u001b[32m2.3/2.3 MB\u001b[0m \u001b[31m37.3 MB/s\u001b[0m eta \u001b[36m0:00:00\u001b[0ma \u001b[36m0:00:01\u001b[0m\n",
      "\u001b[?25hDownloading langchain_core-0.2.41-py3-none-any.whl (397 kB)\n",
      "\u001b[2K   \u001b[90m━━━━━━━━━━━━━━━━━━━━━━━━━━━━━━━━━━━━━━━━\u001b[0m \u001b[32m397.0/397.0 kB\u001b[0m \u001b[31m29.2 MB/s\u001b[0m eta \u001b[36m0:00:00\u001b[0m\n",
      "\u001b[?25hDownloading langchain_openai-0.1.25-py3-none-any.whl (51 kB)\n",
      "\u001b[2K   \u001b[90m━━━━━━━━━━━━━━━━━━━━━━━━━━━━━━━━━━━━━━━━\u001b[0m \u001b[32m51.5/51.5 kB\u001b[0m \u001b[31m5.3 MB/s\u001b[0m eta \u001b[36m0:00:00\u001b[0m\n",
      "\u001b[?25hDownloading langsmith-0.1.134-py3-none-any.whl (295 kB)\n",
      "\u001b[2K   \u001b[90m━━━━━━━━━━━━━━━━━━━━━━━━━━━━━━━━━━━━━━━━\u001b[0m \u001b[32m295.8/295.8 kB\u001b[0m \u001b[31m14.5 MB/s\u001b[0m eta \u001b[36m0:00:00\u001b[0m\n",
      "\u001b[?25hInstalling collected packages: rapidfuzz, jiter, openai, langsmith, langchain-core, langchain-openai, langchain, langchain-community, langchain_benchmarks\n",
      "  Attempting uninstall: rapidfuzz\n",
      "    Found existing installation: rapidfuzz 3.0.0\n",
      "    Uninstalling rapidfuzz-3.0.0:\n",
      "      Successfully uninstalled rapidfuzz-3.0.0\n",
      "  Attempting uninstall: openai\n",
      "    Found existing installation: openai 1.30.5\n",
      "    Uninstalling openai-1.30.5:\n",
      "      Successfully uninstalled openai-1.30.5\n",
      "  Attempting uninstall: langsmith\n",
      "    Found existing installation: langsmith 0.1.75\n",
      "    Uninstalling langsmith-0.1.75:\n",
      "      Successfully uninstalled langsmith-0.1.75\n",
      "  Attempting uninstall: langchain-core\n",
      "    Found existing installation: langchain-core 0.2.5\n",
      "    Uninstalling langchain-core-0.2.5:\n",
      "      Successfully uninstalled langchain-core-0.2.5\n",
      "  Attempting uninstall: langchain\n",
      "    Found existing installation: langchain 0.2.3\n",
      "    Uninstalling langchain-0.2.3:\n",
      "      Successfully uninstalled langchain-0.2.3\n",
      "\u001b[31mERROR: pip's dependency resolver does not currently take into account all the packages that are installed. This behaviour is the source of the following dependency conflicts.\n",
      "llama-index-agent-openai 0.2.7 requires llama-index-core<0.11.0,>=0.10.41, but you have llama-index-core 0.11.14 which is incompatible.\n",
      "llama-index-program-openai 0.1.6 requires llama-index-core<0.11.0,>=0.10.1, but you have llama-index-core 0.11.14 which is incompatible.\n",
      "llama-index-question-gen-openai 0.1.3 requires llama-index-core<0.11.0,>=0.10.1, but you have llama-index-core 0.11.14 which is incompatible.\u001b[0m\u001b[31m\n",
      "\u001b[0mSuccessfully installed jiter-0.6.1 langchain-0.2.16 langchain-community-0.2.17 langchain-core-0.2.41 langchain-openai-0.1.25 langchain_benchmarks-0.0.14 langsmith-0.1.134 openai-1.51.2 rapidfuzz-3.10.0\n",
      "Note: you may need to restart the kernel to use updated packages.\n"
     ]
    }
   ],
   "source": [
    "%pip install -U langchain langchain_benchmarks openai rapidfuzz"
   ]
  },
  {
   "cell_type": "code",
   "execution_count": 2,
   "id": "c401de19-814e-4bd7-bb9c-7ea6e217985c",
   "metadata": {
    "tags": []
   },
   "outputs": [],
   "source": [
    "import os\n",
    "\n",
    "# Get your API key from https://smith.langchain.com/settings\n",
    "os.environ[\"LANGCHAIN_API_KEY\"] = \"sk-...\"\n",
    "os.environ[\"OPENAI_API_KEY\"] = \"sk-\""
   ]
  },
  {
   "cell_type": "code",
   "execution_count": 4,
   "id": "b39159d0-9ea1-414f-a9d8-4a7b22b3d2cc",
   "metadata": {
    "tags": []
   },
   "outputs": [],
   "source": [
    "from langchain_benchmarks import clone_public_dataset, registry"
   ]
  },
  {
   "cell_type": "markdown",
   "id": "03488ab1-31ed-41c2-8da2-46b02599b181",
   "metadata": {},
   "source": [
    "For this code to work, please configure LangSmith environment variables with your credentials."
   ]
  },
  {
   "cell_type": "code",
   "execution_count": 5,
   "id": "60f22779-a948-4833-8e8c-ace9ef17f56f",
   "metadata": {
    "tags": []
   },
   "outputs": [
    {
     "data": {
      "text/html": [
       "<table>\n",
       "<tbody>\n",
       "<tr><td>Name       </td><td>Email Extraction                                                                                                                                           </td></tr>\n",
       "<tr><td>Type       </td><td>ExtractionTask                                                                                                                                             </td></tr>\n",
       "<tr><td>Dataset ID </td><td><a href=\"https://smith.langchain.com/public/a1742786-bde5-4f51-a1d8-e148e5251ddb/d\" target=\"_blank\" rel=\"noopener\">a1742786-bde5-4f51-a1d8-e148e5251ddb</a></td></tr>\n",
       "<tr><td>Description</td><td>A dataset of 42 real emails deduped from a spam folder, with semantic HTML tags removed, as well as a script for initial extraction and formatting of other emails from an arbitrary .mbox file like the one exported by Gmail.\n",
       "\n",
       "Some additional cleanup of the data was done by hand after the initial pass.\n",
       "\n",
       "See https://github.com/jacoblee93/oss-model-extraction-evals.                                                                                                                                                            </td></tr>\n",
       "</tbody>\n",
       "</table>"
      ],
      "text/plain": [
       "ExtractionTask(name='Email Extraction', dataset_id='https://smith.langchain.com/public/a1742786-bde5-4f51-a1d8-e148e5251ddb/d', description='A dataset of 42 real emails deduped from a spam folder, with semantic HTML tags removed, as well as a script for initial extraction and formatting of other emails from an arbitrary .mbox file like the one exported by Gmail.\\n\\nSome additional cleanup of the data was done by hand after the initial pass.\\n\\nSee https://github.com/jacoblee93/oss-model-extraction-evals.\\n    ', schema=<class 'langchain_benchmarks.extraction.tasks.email_task.Email'>, instructions=ChatPromptTemplate(input_variables=['input'], messages=[SystemMessagePromptTemplate(prompt=PromptTemplate(input_variables=[], template='You are an expert researcher.')), HumanMessagePromptTemplate(prompt=PromptTemplate(input_variables=['input'], template='What can you tell me about the following email? Make sure to extract the question in the correct format. Here is the email:\\n ```\\n{input}\\n```'))]), dataset_url=None, dataset_name=None, eval_config=None)"
      ]
     },
     "execution_count": 5,
     "metadata": {},
     "output_type": "execute_result"
    }
   ],
   "source": [
    "task = registry[\"Email Extraction\"]\n",
    "task"
   ]
  },
  {
   "cell_type": "code",
   "execution_count": 6,
   "id": "49be36d2-343e-49df-8369-dd5bac405d5e",
   "metadata": {
    "tags": []
   },
   "outputs": [
    {
     "name": "stdout",
     "output_type": "stream",
     "text": [
      "A dataset of 42 real emails deduped from a spam folder, with semantic HTML tags removed, as well as a script for initial extraction and formatting of other emails from an arbitrary .mbox file like the one exported by Gmail.\n",
      "\n",
      "Some additional cleanup of the data was done by hand after the initial pass.\n",
      "\n",
      "See https://github.com/jacoblee93/oss-model-extraction-evals.\n",
      "    \n"
     ]
    }
   ],
   "source": [
    "print(task.description)"
   ]
  },
  {
   "cell_type": "markdown",
   "id": "bc33a639-3caf-4314-8ea7-1c7c8b1d114d",
   "metadata": {},
   "source": [
    "Clone the dataset associated with this task"
   ]
  },
  {
   "cell_type": "code",
   "execution_count": 4,
   "id": "70369f67-deb4-467a-801a-6d38c3d0460d",
   "metadata": {
    "tags": []
   },
   "outputs": [
    {
     "name": "stdout",
     "output_type": "stream",
     "text": [
      "Dataset Email Extraction already exists. Skipping.\n",
      "You can access the dataset at https://smith.langchain.com/o/ebbaf2eb-769b-4505-aca2-d11de10372a4/datasets/309a2fce-ce68-43aa-befb-67f94d0c3570.\n"
     ]
    }
   ],
   "source": [
    "clone_public_dataset(task.dataset_id, dataset_name=task.name)"
   ]
  },
  {
   "cell_type": "markdown",
   "id": "86f1378a-9a62-477e-bdb8-a7fd10915b62",
   "metadata": {},
   "source": [
    "#### Schema\n",
    "\n",
    "Each extraction task has an expected output schema defined in a Pydantic BaseModel object, which we can use to\n",
    "get a JSON schema object."
   ]
  },
  {
   "cell_type": "code",
   "execution_count": 7,
   "id": "12e302e6-9b3d-42a4-b612-d672c591e8f0",
   "metadata": {
    "tags": []
   },
   "outputs": [
    {
     "name": "stdout",
     "output_type": "stream",
     "text": [
      "{'definitions': {'ToneEnum': {'description': 'The tone of the email.',\n",
      "                              'enum': ['positive', 'negative'],\n",
      "                              'title': 'ToneEnum',\n",
      "                              'type': 'string'}},\n",
      " 'description': 'Relevant information about an email.',\n",
      " 'properties': {'action_items': {'description': 'A list of action items '\n",
      "                                                'requested by the email',\n",
      "                                 'items': {'type': 'string'},\n",
      "                                 'title': 'Action Items',\n",
      "                                 'type': 'array'},\n",
      "                'sender': {'description': \"The sender's name, if available\",\n",
      "                           'title': 'Sender',\n",
      "                           'type': 'string'},\n",
      "                'sender_address': {'description': \"The sender's address, if \"\n",
      "                                                  'available',\n",
      "                                   'title': 'Sender Address',\n",
      "                                   'type': 'string'},\n",
      "                'sender_phone_number': {'description': \"The sender's phone \"\n",
      "                                                       'number, if available',\n",
      "                                        'title': 'Sender Phone Number',\n",
      "                                        'type': 'string'},\n",
      "                'tone': {'allOf': [{'$ref': '#/definitions/ToneEnum'}],\n",
      "                         'description': 'The tone of the email.'},\n",
      "                'topic': {'description': 'High level description of what the '\n",
      "                                         'email is about',\n",
      "                          'title': 'Topic',\n",
      "                          'type': 'string'}},\n",
      " 'required': ['action_items', 'topic', 'tone'],\n",
      " 'title': 'Email',\n",
      " 'type': 'object'}\n"
     ]
    }
   ],
   "source": [
    "import pprint\n",
    "\n",
    "pprint.pprint(task.schema.schema())"
   ]
  },
  {
   "cell_type": "markdown",
   "id": "b462f7b8-fd42-4613-ab5f-5f3cbbc37d28",
   "metadata": {},
   "source": [
    "## Define an extraction chain\n",
    "\n",
    "Let's build the extraction chain that we can use to get structured information from the emails."
   ]
  },
  {
   "cell_type": "code",
   "execution_count": 9,
   "id": "ade7077c-4602-4e5b-ad6d-3eb43cbd0247",
   "metadata": {
    "tags": []
   },
   "outputs": [],
   "source": [
    "from langchain.output_parsers.openai_functions import JsonOutputFunctionsParser\n",
    "from langchain_openai import ChatOpenAI\n",
    "\n",
    "llm = ChatOpenAI(model=\"gpt-3.5-turbo-16k\", temperature=0).bind_functions(\n",
    "    functions=[task.schema],\n",
    "    function_call=task.schema.schema()[\"title\"],\n",
    ")\n",
    "\n",
    "output_parser = JsonOutputFunctionsParser()\n",
    "extraction_chain = task.instructions | llm | output_parser | (lambda x: {\"output\": x})"
   ]
  },
  {
   "cell_type": "code",
   "execution_count": 10,
   "id": "f66ed218-e1db-49b5-bde3-40ebec961723",
   "metadata": {
    "tags": []
   },
   "outputs": [
    {
     "data": {
      "text/plain": [
       "{'output': {'sender': 'Unknown',\n",
       "  'sender_phone_number': '000-1212-1111',\n",
       "  'sender_address': '12345 My Gold Way',\n",
       "  'action_items': ['Buy an envelope',\n",
       "   'Put gold inside',\n",
       "   'Close the envelope',\n",
       "   \"Mail it to sender's address\"],\n",
       "  'topic': 'Request to send gold',\n",
       "  'tone': 'positive'}}"
      ]
     },
     "execution_count": 10,
     "metadata": {},
     "output_type": "execute_result"
    }
   ],
   "source": [
    "extraction_chain.invoke(\n",
    "    {\n",
    "        \"input\": \"Hello Dear MR. I want you to send me gold to get rich.\"\n",
    "        \" First buy an envelope. Then open it and put some gold inside. \"\n",
    "        \"Then close it and finally mail it to my address at 12345 My Gold Way.\"\n",
    "        \" You can call me any time at 000-1212-1111.\"\n",
    "    }\n",
    ")"
   ]
  },
  {
   "cell_type": "code",
   "execution_count": 45,
   "id": "09f3658a",
   "metadata": {},
   "outputs": [
    {
     "name": "stdout",
     "output_type": "stream",
     "text": [
      "What can you tell me about the following email? Make sure to extract the question in the correct format. Here is the email:\n",
      " ```\n",
      "{input}\n",
      "```\n"
     ]
    }
   ],
   "source": [
    "print (task.instructions.messages[1].prompt.template)"
   ]
  },
  {
   "cell_type": "code",
   "execution_count": 36,
   "id": "3876a0cd",
   "metadata": {},
   "outputs": [
    {
     "data": {
      "text/plain": [
       "{'title': 'Email',\n",
       " 'description': 'Relevant information about an email.',\n",
       " 'type': 'object',\n",
       " 'properties': {'sender': {'title': 'Sender',\n",
       "   'description': \"The sender's name, if available\",\n",
       "   'type': 'string'},\n",
       "  'sender_phone_number': {'title': 'Sender Phone Number',\n",
       "   'description': \"The sender's phone number, if available\",\n",
       "   'type': 'string'},\n",
       "  'sender_address': {'title': 'Sender Address',\n",
       "   'description': \"The sender's address, if available\",\n",
       "   'type': 'string'},\n",
       "  'action_items': {'title': 'Action Items',\n",
       "   'description': 'A list of action items requested by the email',\n",
       "   'type': 'array',\n",
       "   'items': {'type': 'string'}},\n",
       "  'topic': {'title': 'Topic',\n",
       "   'description': 'High level description of what the email is about',\n",
       "   'type': 'string'},\n",
       "  'tone': {'description': 'The tone of the email.',\n",
       "   'allOf': [{'$ref': '#/definitions/ToneEnum'}]}},\n",
       " 'required': ['action_items', 'topic', 'tone'],\n",
       " 'definitions': {'ToneEnum': {'title': 'ToneEnum',\n",
       "   'description': 'The tone of the email.',\n",
       "   'enum': ['positive', 'negative'],\n",
       "   'type': 'string'}}}"
      ]
     },
     "execution_count": 36,
     "metadata": {},
     "output_type": "execute_result"
    }
   ],
   "source": [
    "task.schema.schema()"
   ]
  },
  {
   "cell_type": "markdown",
   "id": "87a64f76-65ae-4367-b43f-f2be3431e7af",
   "metadata": {},
   "source": [
    "Now it's time to measure our chain's effectiveness!"
   ]
  },
  {
   "cell_type": "markdown",
   "id": "3821e4b0-8e67-418a-840c-470fcde42df0",
   "metadata": {},
   "source": [
    "## Evaluate\n",
    "\n",
    "Let's evaluate the chain now."
   ]
  },
  {
   "cell_type": "code",
   "execution_count": 8,
   "id": "513042fe-2878-44f8-ae84-05b9d521c1de",
   "metadata": {
    "tags": []
   },
   "outputs": [],
   "source": [
    "from langsmith.client import Client\n",
    "\n",
    "from langchain_benchmarks.extraction import get_eval_config"
   ]
  },
  {
   "cell_type": "code",
   "execution_count": 9,
   "id": "2bedd9d1-fc06-4066-9f89-b874ae818d82",
   "metadata": {
    "tags": []
   },
   "outputs": [],
   "source": [
    "client = Client()"
   ]
  },
  {
   "cell_type": "code",
   "execution_count": 10,
   "id": "6826a2c6-8443-4215-9e15-b6f4bb570405",
   "metadata": {
    "tags": []
   },
   "outputs": [],
   "source": [
    "eval_llm = ChatOpenAI(model=\"gpt-4\", model_kwargs={\"seed\": 42})\n",
    "eval_config = get_eval_config(eval_llm)"
   ]
  },
  {
   "cell_type": "code",
   "execution_count": 11,
   "id": "aab7514e-a6ef-4c21-b90f-d9cbefcf5af1",
   "metadata": {
    "tags": []
   },
   "outputs": [
    {
     "name": "stdout",
     "output_type": "stream",
     "text": [
      "View the evaluation results for project 'monthly-look-12' at:\n",
      "https://smith.langchain.com/o/ebbaf2eb-769b-4505-aca2-d11de10372a4/projects/p/177d564f-516d-4b65-bae0-37154b529470?eval=true\n",
      "\n",
      "View all tests for Dataset Email Extraction at:\n",
      "https://smith.langchain.com/o/ebbaf2eb-769b-4505-aca2-d11de10372a4/datasets/309a2fce-ce68-43aa-befb-67f94d0c3570\n",
      "[------------------------------------------------->] 42/42\n",
      " Eval quantiles:\n",
      "                                             inputs.input  \\\n",
      "count                                                  42   \n",
      "unique                                                 42   \n",
      "top     ---  \\n|\\n\\nEvery business faces its set of cu...   \n",
      "freq                                                    1   \n",
      "mean                                                  NaN   \n",
      "std                                                   NaN   \n",
      "min                                                   NaN   \n",
      "25%                                                   NaN   \n",
      "50%                                                   NaN   \n",
      "75%                                                   NaN   \n",
      "max                                                   NaN   \n",
      "\n",
      "                                           outputs.output  \\\n",
      "count                                                  42   \n",
      "unique                                                 42   \n",
      "top     {'sender': 'EMC Financial', 'sender_address': ...   \n",
      "freq                                                    1   \n",
      "mean                                                  NaN   \n",
      "std                                                   NaN   \n",
      "min                                                   NaN   \n",
      "25%                                                   NaN   \n",
      "50%                                                   NaN   \n",
      "75%                                                   NaN   \n",
      "max                                                   NaN   \n",
      "\n",
      "        feedback.json_edit_distance  feedback.score_string:accuracy error  \\\n",
      "count                     42.000000                       42.000000     0   \n",
      "unique                          NaN                             NaN     0   \n",
      "top                             NaN                             NaN   NaN   \n",
      "freq                            NaN                             NaN   NaN   \n",
      "mean                       0.566434                        0.485714   NaN   \n",
      "std                        0.178473                        0.235374   NaN   \n",
      "min                        0.190883                        0.100000   NaN   \n",
      "25%                        0.441978                        0.300000   NaN   \n",
      "50%                        0.581750                        0.300000   NaN   \n",
      "75%                        0.687949                        0.700000   NaN   \n",
      "max                        0.901852                        0.900000   NaN   \n",
      "\n",
      "        execution_time  \n",
      "count        42.000000  \n",
      "unique             NaN  \n",
      "top                NaN  \n",
      "freq               NaN  \n",
      "mean          3.527634  \n",
      "std           0.518258  \n",
      "min           2.579424  \n",
      "25%           3.153659  \n",
      "50%           3.525745  \n",
      "75%           3.796416  \n",
      "max           5.144408  \n"
     ]
    }
   ],
   "source": [
    "test_run = client.run_on_dataset(\n",
    "    dataset_name=task.name,\n",
    "    llm_or_chain_factory=extraction_chain,\n",
    "    evaluation=eval_config,\n",
    "    verbose=True,\n",
    "    project_metadata={\n",
    "        \"arch\": \"openai-functions\",\n",
    "    },\n",
    ")"
   ]
  },
  {
   "cell_type": "markdown",
   "id": "d9828990-f498-4d3f-9e51-76d72bf8f4e9",
   "metadata": {},
   "source": [
    "## Compare to another LLM\n",
    "\n",
    "Let's compare to an Anthropic LLM."
   ]
  },
  {
   "cell_type": "code",
   "execution_count": 12,
   "id": "b9914571-d3f2-4f48-bdbb-2dfcfb03f26d",
   "metadata": {
    "tags": []
   },
   "outputs": [],
   "source": [
    "from langchain.chat_models import ChatAnthropic\n",
    "from langchain.output_parsers.xml import XMLOutputParser\n",
    "from langchain.prompts import ChatPromptTemplate\n",
    "\n",
    "# This is the schema the model will populate\n",
    "xsd = \"\"\"<xs:schema xmlns:xs=\"http://www.w3.org/2001/XMLSchema\" elementFormDefault=\"qualified\">\n",
    "    <xs:element name=\"Email\">\n",
    "        <xs:complexType>\n",
    "            <xs:sequence>\n",
    "                <xs:element name=\"sender\" type=\"xs:string\" minOccurs=\"0\"/>\n",
    "                <xs:element name=\"sender_phone_number\" type=\"xs:string\" minOccurs=\"0\"/>\n",
    "                <xs:element name=\"sender_address\" type=\"xs:string\" minOccurs=\"0\"/>\n",
    "                <xs:element name=\"action_items\" type=\"ActionItemsType\" minOccurs=\"1\"/>\n",
    "                <xs:element name=\"topic\" type=\"xs:string\" minOccurs=\"1\"/>\n",
    "                <xs:element name=\"tone\" type=\"ToneEnumType\" minOccurs=\"1\"/>\n",
    "            </xs:sequence>\n",
    "        </xs:complexType>\n",
    "    </xs:element>\n",
    "    <xs:complexType name=\"ActionItemsType\">\n",
    "        <xs:sequence>\n",
    "            <xs:element name=\"item\" type=\"xs:string\" minOccurs=\"0\" maxOccurs=\"unbounded\"/>\n",
    "        </xs:sequence>\n",
    "    </xs:complexType>\n",
    "    <xs:simpleType name=\"ToneEnumType\">\n",
    "        <xs:restriction base=\"xs:string\">\n",
    "            <xs:enumeration value=\"positive\"/>\n",
    "            <xs:enumeration value=\"negative\"/>\n",
    "        </xs:restriction>\n",
    "    </xs:simpleType>\n",
    "\n",
    "</xs:schema>\"\"\"\n",
    "\n",
    "prompt = ChatPromptTemplate.from_messages(\n",
    "    [\n",
    "        (\n",
    "            \"system\",\n",
    "            \"You are a data extraction bot. Always respond \"\n",
    "            \"only with XML of the following schema:\\n{xsd}\",\n",
    "        ),\n",
    "        (\n",
    "            \"user\",\n",
    "            \"Extract Email from the folowing Document:\\n\"\n",
    "            \"<Document>\\n{input}\\n</Document>\\n\"\n",
    "            \"RESPOND ONLY IN XML THEN STOP.\",\n",
    "        ),\n",
    "    ]\n",
    ").partial(xsd=xsd)\n",
    "\n",
    "claude = ChatAnthropic(model=\"claude-2\", temperature=1)\n",
    "\n",
    "\n",
    "def convert_parsed_email(email_dict: dict) -> dict:\n",
    "    \"\"\"Conver the XML-parsed dictionary to a flattened dict.\"\"\"\n",
    "    if \"Email\" not in email_dict:\n",
    "        return email_dict\n",
    "    # Flatten the tags\n",
    "    result = {k: v for item in email_dict[\"Email\"] for k, v in item.items()}\n",
    "    result[\"action_items\"] = [\n",
    "        item[\"item\"] for item in (result.get(\"action_items\") or [])\n",
    "    ]\n",
    "    return {\"output\": result}\n",
    "\n",
    "\n",
    "claude_extraction_chain = prompt | claude | XMLOutputParser() | convert_parsed_email"
   ]
  },
  {
   "cell_type": "code",
   "execution_count": 13,
   "id": "83576fba-913c-4476-bfe5-fa2dfb7cdd95",
   "metadata": {
    "tags": []
   },
   "outputs": [
    {
     "data": {
      "text/plain": [
       "{'output': {'sender': None,\n",
       "  'sender_phone_number': '000-1212-1111',\n",
       "  'sender_address': '12345 My Gold Way',\n",
       "  'action_items': ['buy an envelope',\n",
       "   'open it',\n",
       "   'put some gold inside',\n",
       "   'close it',\n",
       "   'mail it to my address'],\n",
       "  'topic': 'sending gold',\n",
       "  'tone': 'negative'}}"
      ]
     },
     "execution_count": 13,
     "metadata": {},
     "output_type": "execute_result"
    }
   ],
   "source": [
    "result = claude_extraction_chain.invoke(\n",
    "    {\n",
    "        \"input\": \"Hello Dear MR. I want you to send me gold to get rich.\"\n",
    "        \" First buy an envelope. Then open it and put some gold inside. \"\n",
    "        \"Then close it and finally mail it to my address at 12345 My Gold Way.\"\n",
    "        \" You can call me any time at 000-1212-1111.\"\n",
    "    }\n",
    ")\n",
    "result"
   ]
  },
  {
   "cell_type": "code",
   "execution_count": 14,
   "id": "f8d58656-108d-48d2-ba16-815fc9bdebcc",
   "metadata": {
    "tags": []
   },
   "outputs": [
    {
     "name": "stdout",
     "output_type": "stream",
     "text": [
      "View the evaluation results for project 'frosty-moon-4' at:\n",
      "https://smith.langchain.com/o/ebbaf2eb-769b-4505-aca2-d11de10372a4/projects/p/81d41017-bcda-450d-8991-9bf744c7ebb8?eval=true\n",
      "\n",
      "View all tests for Dataset Email Extraction at:\n",
      "https://smith.langchain.com/o/ebbaf2eb-769b-4505-aca2-d11de10372a4/datasets/309a2fce-ce68-43aa-befb-67f94d0c3570\n",
      "[-------------------------------------->           ] 33/42"
     ]
    },
    {
     "name": "stderr",
     "output_type": "stream",
     "text": [
      "Chain failed for example 9a707fca-4ba7-4f7d-8912-b9fd71e9901e with inputs {'input': \"---|---|---|---  \\n  \\nBook with Fall Sale Extras Through November 21! Savings! OBC! Visa Gift Card\\n+ More  \\n  \\n---  \\n|\\n\\n|  |  |  |  |  |  |  \\n---  \\n|  |  \\n---  \\n|  | SHOP THE FALL CRUISE SALE  \\n---  \\n|  |  \\n---  \\n  \\n**Celebrity Cruises** Celebrity Cruises receive **Exclusive Pricing** with\\nup to **$450 BONUS Savings per Stateroom** based on double\\noccupancyand even more for extra guests! Enjoy **Exclusive Tips**\\non 2024 sailings, up to**$2150 Onboard Credit** , and up to a **$1700 Visa\\nGiftCard** on Galapagos sailings or up to a **$650 Visa Gift Card** on\\nother departures. **Drinks** and **Wi-Fi** are All Included, too!   **See=\\nThis Offer =E2=96=B8**  \\n  \\n|  |  \\n---  \\n  \\n**Viking** Enjoy your favorite Viking voyages with up to=C2=A0 **$1200\\nShipboard Credit** from Online Vacation Center when you book by Nov 21!\\nPlus, select sailings get **Airfare** , **Stateroom Upgrades** , **Special\\nFares** =C2=A0and only **$25 Deposits** on the world's #1 Cruise Line for\\nOceans, Rivers & Expeditions! Guided Tours, Wi-Fi, Select Beverages, Meals &\\nMore Included.   **SeeThis Offer =E2=96=B8**  \\n  \\n|  |  \\n---  \\n  \\n**Royal Caribbean** Sail Away on Royal Caribbean withup to **$1000 BONUS\\nOnboard Credit** and **Specialty Dining** exclusively from Online Vacation\\nCenter!=C2=A0Plus, up to **30% SAVINGS** on all Cruises, **Kids Sail =\\nFree** on select sailings and up to **$500 Savings on Airfare** on select\\nAlaska and Europe sailings. **SeeThis Offer =E2=96=B8**  \\n  \\n|  |  \\n---  \\n  \\n**Oceania Cruises** Choose Your Offer! Receive **Prepaid Gratuities** on\\nselect sailings OR receive up to **$1000 Onboard Credit** on 30 Europe\\nvoyages. Enjoy _simply_ MORE™ with **2 for 1** Cruise Fares, **Roundtrip\\nAirfare** , Transfers & Taxes, **Unlimited Wi-Fi** , up to **$1600 Shore\\nExcursion Credit** , Specialty Dining, Champagne, Wine, and more. Plus,\\nreceive up to a **$1500 Visa Gift Card** from Online Vacation Center!\\n**SeeThis Offer =E2=96=B8**  \\n  \\n|  |  \\n---  \\n  \\n**Regent Seven Seas Cruises** Book your luxury cruise on Regent Seven Seas\\nby Nov 21 and receive up to **$2000** in **Exclusive Savings** per Suite on\\nall sailings through June 2026! Plus, enjoy **Bonus Savings =** worth up to\\n**30%** on select 2024 sailings when you book by Nov 12. Receive up to a\\n**$1400 Visa Gift Card** from us, and enjoy Regent standard inclusions like\\n**Business Class Airfare** on intercontinental flights and **Airfare** on\\ndomestic flights, **Shore Excursions** , **Gratuities** and More. **See This\\nOffer =E2=96=B8**  \\n  \\n|  |  \\n---  \\n  \\n**Azamara** Enjoy up to **$1500 Onboard Credit** , up to an=C2=A0 **$800\\nVisa Gift Card** , **Stateroom Upgrades** and **20% Off Suites** onselect\\nsailings, and More on Azamara during our Fall Sale! Plus up to a **$200\\nBONUS Visa Gift Card** on our Exclusive Cruise Packages. Receive Azamara\\nstandard inclusions like select **Beverages , **Gratuities** and More.   **See\\nThis Offer =E2=96=B8**  \\n  \\n|  |  \\n---  \\n  \\n**Norwegian Cruise Line** Enjoy up to **$1000 Onboard Credit** and\\n**Gratuities** on 7+ night Balconies or higher during our Fall Sale! Plus\\n**50% OFF** Cruise Fares and **Free at Sea:** Open Bar, Specialty Dining, =\\nWi-Fi, Shore Excursion Credits and extra guests on select sailings. **See=\\nThis Offer =E2=96=B8**  \\n  \\n|  |  \\n---  \\n  \\n**Luxury Hotels** Whether your personal definition ofluxury is an urban\\noasis or an opulent villa, a wine-country cottage or a Caribbean hammock,\\nOnline Vacation Center has the perfect accommodations for your next\\nvacation. Book now for **Exclusive Offers**  **Discounts** ,\\n**Extra Nights** , **Resort Credits** , **Complimentary Amenities** and\\nMore! **SeeThis Offer =E2=96=B8**  \\n  \\n|  |  \\n---  \\n  \\n**Enrichment Journeys** Book an **Enrichment Journey** on Celebrity Cruises\\nfor up to **$2150 Onboard Credit** , up to **$450 Off** per stateroom and up\\nto a **$650 Visa Gift Card** with **Exclusive Tips** on 2024 sailings +\\n**Drinks** and **Wi-Fi** All Included. Journeys include **Airfare**\\n, 4-star+ **Hotel** Stays, **Transfers** , **Taxes** , select **Meals**\\nand More. **SeeThis Offer =E2=96=B8**  \\n  \\n|  |  \\n---  \\n  \\n**Princess Cruises** Enjoy up to **$1200 Onboard Credit** , up to **50% Off\\nCruise Fares =** & **50% Off Deposits** during our Fall Sale! Choose =\\nPrincess Plus to receive Included **Drinks, Crew Appreciation** & **Wi-Fi**\\n_(over $950 in added value!)_ OR skip the frills for the lowest rate. **See\\nThis Offer =E2=96=B8**  \\n  \\n|  |  \\n---  \\n  \\n**Holland America Line** Get more on your Holland America cruise with up to\\n**$1450 Onboard Credit** and **Gratuities** on select sailings, exclusively\\nfrom us! Plus, **Have It All** with **Wi-Fi, Beverages, Specialty Dining**\\nand **Shore Excursions** or skip the frills for a lower cruise fare. For a\\nlimited time, enjoy **BONUS Shore Excursion** & **Air Credits** , $99\\nDeposits and **Kids Sail Free** on select 2024 sailings. **SeeThis Offer\\n=E2=96=B8**  \\n  \\n|  |  \\n---  \\n|  |  \\n---  \\n|  |  \\n---  \\n|\\n\\n### Hours of Operation\\n\\n**Monday=E2=80=93Friday** 9 am=E2=80=936 pm ET **Saturday** 10 am=E2=80=934\\npm ET **Sunday** Closed  \\n  \\n---  \\n|  |  \\n---  \\n  \\n**Terms and Conditions** : New Bookings Only. Select Sailings Apply.\\nRates, itinerary and any available amenities are by sail date and are\\nsubject to change. **Repricing an existing reservation or requesting a\\ncancel/rebook is not permitted for this promotion. This promotion is not\\napplicable for reservations that used FCCs or utilized Lift & Shift program.\\nCall to see what you qualify for (please note that any modifications may\\nresult in a $100 per person change fee). Fall Sale**: Offer expires\\n11/21/23. Airfare is included on select sailings from select gateways.\\nAdditional gateways may be available for lowadd-ons. The identity of the air\\ncarrier, which may include the carrier's code-share partner, will be\\nassigned and disclosed at a later date. Purchases made onboard plane or in\\nterminal not included. Onboard Credit isper stateroom on select sailings.\\nPrices are per person, double occupancy.Prices and itineraries are based on\\navailability and are subject to changewithout notice. Offer can be withdrawn\\nat any time. All fares may be subject to fuel surcharges if imposed by\\ncruise lines and airlines. Government taxes, air taxes, transfers, service\\nfees and other ancillary charges are additional unless otherwise noted.\\nAdditional terms, conditionsand restrictions apply; view individual offers\\nfor more information. Online Vacation Center reserves the right to cancel\\nthe Offer at any time, correct any errors, inaccuracies or omissions, and\\nchange or update fares, fees and surcharges at any time without prior\\nnotice. Online Vacation Center is a registered Seller of Travel with the\\nStates of Florida (ST-32947), California (CST-2064227-40) and Washington (WA\\nSOT 602250083). 110823CB  \\n  \\n|  |  \\n---  \\n  \\n* * *\\n\\nThis message was sent to address: jacob@gmail.com  \\n  \\nMore Travel Deals \\\\- Sign Up \\\\- Forward to Friend \\\\- Unsubscribe \\\\- Privacy \\\\-\\nDisclaimers  \\n  \\n(C) 2023 Dunhill Vacations Inc. - 2307 W. Broward Blvd, Ste 402 - Fort\\nLauderdale, FL 33312  \\n  \\n---  \\n\\\\----_NmP-64d90535a0e2740e-Part_1--\\n\\n\"}\n",
      "Error Type: ValueError, Message: Could not parse output: <Email>\n",
      "  <sender></sender>\n",
      "  <sender_phone_number></sender_phone_number>\n",
      "  <sender_address></sender_address>\n",
      "  <action_items>\n",
      "    <item>Book Celebrity Cruises by Nov 21 for exclusive pricing, bonuses, and gifts</item>\n",
      "    <item>Book Viking by Nov 21 for bonuses and special offers</item>\n",
      "    <item>Book Royal Caribbean by Nov 21 for onboard credits, dining, and savings</item>\n",
      "    <item>Book Oceania Cruises by Nov 21 for prepaid gratuities or onboard credits</item>\n",
      "    <item>Book Regent Seven Seas by Nov 21 for exclusive savings and gift cards</item>\n",
      "    <item>Book Azamara by Nov 21 for onboard credits, upgrades, and savings</item>\n",
      "    <item>Book Norwegian Cruise Line for discounts, amenities, and savings</item>\n",
      "    <item>Book luxury hotels for exclusive offers and discounts</item>\n",
      "    <item>Book an Enrichment Journey on Celebrity Cruises for bonuses and inclusions</item>\n",
      "    <item>Book Princess Cruises for discounts, amenities, and onboard credits</item>\n",
      "    <item>Book Holland America Line for bonuses,\n"
     ]
    },
    {
     "name": "stdout",
     "output_type": "stream",
     "text": [
      "[------------------------------------------------->] 42/42\n",
      " Eval quantiles:\n",
      "                                             inputs.input  \\\n",
      "count                                                  42   \n",
      "unique                                                 42   \n",
      "top     ---  \\n|\\n\\nEvery business faces its set of cu...   \n",
      "freq                                                    1   \n",
      "mean                                                  NaN   \n",
      "std                                                   NaN   \n",
      "min                                                   NaN   \n",
      "25%                                                   NaN   \n",
      "50%                                                   NaN   \n",
      "75%                                                   NaN   \n",
      "max                                                   NaN   \n",
      "\n",
      "                                           outputs.output  \\\n",
      "count                                                  41   \n",
      "unique                                                 41   \n",
      "top     {'sender': 'Sam', 'sender_phone_number': '800....   \n",
      "freq                                                    1   \n",
      "mean                                                  NaN   \n",
      "std                                                   NaN   \n",
      "min                                                   NaN   \n",
      "25%                                                   NaN   \n",
      "50%                                                   NaN   \n",
      "75%                                                   NaN   \n",
      "max                                                   NaN   \n",
      "\n",
      "        feedback.json_edit_distance  feedback.score_string:accuracy  \\\n",
      "count                     41.000000                       41.000000   \n",
      "unique                          NaN                             NaN   \n",
      "top                             NaN                             NaN   \n",
      "freq                            NaN                             NaN   \n",
      "mean                       0.382352                        0.565854   \n",
      "std                        0.164442                        0.238338   \n",
      "min                        0.107011                        0.100000   \n",
      "25%                        0.252252                        0.300000   \n",
      "50%                        0.375427                        0.700000   \n",
      "75%                        0.532982                        0.700000   \n",
      "max                        0.753704                        1.000000   \n",
      "\n",
      "                                                    error  execution_time  \n",
      "count                                                   1       42.000000  \n",
      "unique                                                  1             NaN  \n",
      "top     Could not parse output: <Email>\\n  <sender></s...             NaN  \n",
      "freq                                                    1             NaN  \n",
      "mean                                                  NaN        9.082149  \n",
      "std                                                   NaN        2.192165  \n",
      "min                                                   NaN        6.203642  \n",
      "25%                                                   NaN        7.807354  \n",
      "50%                                                   NaN        8.497452  \n",
      "75%                                                   NaN        9.632442  \n",
      "max                                                   NaN       19.564479  \n"
     ]
    }
   ],
   "source": [
    "claude_test_run = client.run_on_dataset(\n",
    "    dataset_name=task.name,\n",
    "    llm_or_chain_factory=claude_extraction_chain,\n",
    "    evaluation=eval_config,\n",
    "    verbose=True,\n",
    "    project_metadata={\n",
    "        \"arch\": \"claude-xml\",\n",
    "    },\n",
    ")"
   ]
  },
  {
   "cell_type": "markdown",
   "id": "1b039225-01cf-481a-87a6-4e880e9b1dcd",
   "metadata": {},
   "source": [
    "## Inspect\n",
    "\n",
    "Here, we'll take a look at the underlying results a little bit.\n",
    "\n",
    "A few things to note:\n",
    "\n",
    "* For this run, Anthropic is doing better on average\n",
    "* The correctness is low - getting the exact information right can be difficult"
   ]
  },
  {
   "cell_type": "code",
   "execution_count": 26,
   "id": "6eb19db1-43b8-4866-a3d2-f211ba92ab8b",
   "metadata": {
    "tags": []
   },
   "outputs": [],
   "source": [
    "df = test_run.to_dataframe().join(claude_test_run.to_dataframe(), rsuffix=\"_claude\")"
   ]
  },
  {
   "cell_type": "code",
   "execution_count": 32,
   "id": "c292b4ed-8331-4068-82fa-7cea2725e24d",
   "metadata": {
    "tags": []
   },
   "outputs": [
    {
     "data": {
      "text/html": [
       "<div>\n",
       "<style scoped>\n",
       "    .dataframe tbody tr th:only-of-type {\n",
       "        vertical-align: middle;\n",
       "    }\n",
       "\n",
       "    .dataframe tbody tr th {\n",
       "        vertical-align: top;\n",
       "    }\n",
       "\n",
       "    .dataframe thead th {\n",
       "        text-align: right;\n",
       "    }\n",
       "</style>\n",
       "<table border=\"1\" class=\"dataframe\">\n",
       "  <thead>\n",
       "    <tr style=\"text-align: right;\">\n",
       "      <th></th>\n",
       "      <th>inputs.input</th>\n",
       "      <th>outputs.output</th>\n",
       "      <th>reference</th>\n",
       "      <th>feedback.json_edit_distance</th>\n",
       "      <th>feedback.score_string:accuracy</th>\n",
       "      <th>error</th>\n",
       "      <th>execution_time</th>\n",
       "      <th>inputs.input_claude</th>\n",
       "      <th>outputs.output_claude</th>\n",
       "      <th>reference_claude</th>\n",
       "      <th>feedback.json_edit_distance_claude</th>\n",
       "      <th>feedback.score_string:accuracy_claude</th>\n",
       "      <th>error_claude</th>\n",
       "      <th>execution_time_claude</th>\n",
       "    </tr>\n",
       "  </thead>\n",
       "  <tbody>\n",
       "    <tr>\n",
       "      <th>61c40266-b994-49a2-8768-d54704cee079</th>\n",
       "      <td>---  \\n|\\n\\nEvery business faces its set of cu...</td>\n",
       "      <td>{'sender': 'EMC Financial', 'sender_address': ...</td>\n",
       "      <td>{'output': {'tone': 'positive', 'topic': 'Busi...</td>\n",
       "      <td>0.562112</td>\n",
       "      <td>0.7</td>\n",
       "      <td>None</td>\n",
       "      <td>4.358837</td>\n",
       "      <td>---  \\n|\\n\\nEvery business faces its set of cu...</td>\n",
       "      <td>{'sender': 'Sam', 'sender_phone_number': '800....</td>\n",
       "      <td>{'output': {'tone': 'positive', 'topic': 'Busi...</td>\n",
       "      <td>0.301242</td>\n",
       "      <td>0.7</td>\n",
       "      <td>None</td>\n",
       "      <td>10.501042</td>\n",
       "    </tr>\n",
       "    <tr>\n",
       "      <th>2dcfadff-51dc-458c-8af0-f47a795d0c9b</th>\n",
       "      <td>Hello Jacob!\\n\\n  \\n\\nHave you noticed thesurg...</td>\n",
       "      <td>{'sender': 'Sam at EMC', 'action_items': ['Fil...</td>\n",
       "      <td>{'output': {'tone': 'positive', 'topic': 'Gree...</td>\n",
       "      <td>0.505338</td>\n",
       "      <td>0.7</td>\n",
       "      <td>None</td>\n",
       "      <td>3.946547</td>\n",
       "      <td>Hello Jacob!\\n\\n  \\n\\nHave you noticed thesurg...</td>\n",
       "      <td>{'sender': 'Sam at EMC', 'sender_phone_number'...</td>\n",
       "      <td>{'output': {'tone': 'positive', 'topic': 'Gree...</td>\n",
       "      <td>0.113879</td>\n",
       "      <td>0.7</td>\n",
       "      <td>None</td>\n",
       "      <td>8.511848</td>\n",
       "    </tr>\n",
       "    <tr>\n",
       "      <th>a9c481ba-9ca5-408c-8c9c-f29127a70f7b</th>\n",
       "      <td>Hi there,\\n\\n |  \\n---  \\n  \\nWe've updated ou...</td>\n",
       "      <td>{'sender': 'Crunchbase Team', 'action_items': ...</td>\n",
       "      <td>{'output': {'tone': 'positive', 'topic': 'Upda...</td>\n",
       "      <td>0.245283</td>\n",
       "      <td>0.9</td>\n",
       "      <td>None</td>\n",
       "      <td>3.972396</td>\n",
       "      <td>Hi there,\\n\\n |  \\n---  \\n  \\nWe've updated ou...</td>\n",
       "      <td>{'sender': None, 'sender_phone_number': None, ...</td>\n",
       "      <td>{'output': {'tone': 'positive', 'topic': 'Upda...</td>\n",
       "      <td>0.343434</td>\n",
       "      <td>0.7</td>\n",
       "      <td>None</td>\n",
       "      <td>9.739630</td>\n",
       "    </tr>\n",
       "    <tr>\n",
       "      <th>98358188-6e36-42ef-9298-83acf8d9dd12</th>\n",
       "      <td>Consider all ways to give to  \\nSave the Redwo...</td>\n",
       "      <td>{'sender': 'Tim Whalen', 'sender_address': 'Sa...</td>\n",
       "      <td>{'output': {'tone': 'positive', 'topic': 'Dona...</td>\n",
       "      <td>0.280556</td>\n",
       "      <td>0.7</td>\n",
       "      <td>None</td>\n",
       "      <td>3.890567</td>\n",
       "      <td>Consider all ways to give to  \\nSave the Redwo...</td>\n",
       "      <td>{'sender': None, 'sender_phone_number': None, ...</td>\n",
       "      <td>{'output': {'tone': 'positive', 'topic': 'Dona...</td>\n",
       "      <td>0.255556</td>\n",
       "      <td>0.3</td>\n",
       "      <td>None</td>\n",
       "      <td>9.640687</td>\n",
       "    </tr>\n",
       "    <tr>\n",
       "      <th>0f29e857-fc08-45dd-b1ea-dde1e00c4a62</th>\n",
       "      <td>Some travelers plan ahead; others prefer a bit...</td>\n",
       "      <td>{'sender': 'Dunhill Vacations Inc.', 'sender_a...</td>\n",
       "      <td>{'output': {'tone': 'positive', 'topic': 'Trav...</td>\n",
       "      <td>0.552463</td>\n",
       "      <td>0.7</td>\n",
       "      <td>None</td>\n",
       "      <td>4.252478</td>\n",
       "      <td>Some travelers plan ahead; others prefer a bit...</td>\n",
       "      <td>{'sender': 'Dunhill Vacations Inc.', 'sender_p...</td>\n",
       "      <td>{'output': {'tone': 'positive', 'topic': 'Trav...</td>\n",
       "      <td>0.584582</td>\n",
       "      <td>0.3</td>\n",
       "      <td>None</td>\n",
       "      <td>6.803259</td>\n",
       "    </tr>\n",
       "  </tbody>\n",
       "</table>\n",
       "</div>"
      ],
      "text/plain": [
       "                                                                           inputs.input  \\\n",
       "61c40266-b994-49a2-8768-d54704cee079  ---  \\n|\\n\\nEvery business faces its set of cu...   \n",
       "2dcfadff-51dc-458c-8af0-f47a795d0c9b  Hello Jacob!\\n\\n  \\n\\nHave you noticed thesurg...   \n",
       "a9c481ba-9ca5-408c-8c9c-f29127a70f7b  Hi there,\\n\\n |  \\n---  \\n  \\nWe've updated ou...   \n",
       "98358188-6e36-42ef-9298-83acf8d9dd12  Consider all ways to give to  \\nSave the Redwo...   \n",
       "0f29e857-fc08-45dd-b1ea-dde1e00c4a62  Some travelers plan ahead; others prefer a bit...   \n",
       "\n",
       "                                                                         outputs.output  \\\n",
       "61c40266-b994-49a2-8768-d54704cee079  {'sender': 'EMC Financial', 'sender_address': ...   \n",
       "2dcfadff-51dc-458c-8af0-f47a795d0c9b  {'sender': 'Sam at EMC', 'action_items': ['Fil...   \n",
       "a9c481ba-9ca5-408c-8c9c-f29127a70f7b  {'sender': 'Crunchbase Team', 'action_items': ...   \n",
       "98358188-6e36-42ef-9298-83acf8d9dd12  {'sender': 'Tim Whalen', 'sender_address': 'Sa...   \n",
       "0f29e857-fc08-45dd-b1ea-dde1e00c4a62  {'sender': 'Dunhill Vacations Inc.', 'sender_a...   \n",
       "\n",
       "                                                                              reference  \\\n",
       "61c40266-b994-49a2-8768-d54704cee079  {'output': {'tone': 'positive', 'topic': 'Busi...   \n",
       "2dcfadff-51dc-458c-8af0-f47a795d0c9b  {'output': {'tone': 'positive', 'topic': 'Gree...   \n",
       "a9c481ba-9ca5-408c-8c9c-f29127a70f7b  {'output': {'tone': 'positive', 'topic': 'Upda...   \n",
       "98358188-6e36-42ef-9298-83acf8d9dd12  {'output': {'tone': 'positive', 'topic': 'Dona...   \n",
       "0f29e857-fc08-45dd-b1ea-dde1e00c4a62  {'output': {'tone': 'positive', 'topic': 'Trav...   \n",
       "\n",
       "                                      feedback.json_edit_distance  \\\n",
       "61c40266-b994-49a2-8768-d54704cee079                     0.562112   \n",
       "2dcfadff-51dc-458c-8af0-f47a795d0c9b                     0.505338   \n",
       "a9c481ba-9ca5-408c-8c9c-f29127a70f7b                     0.245283   \n",
       "98358188-6e36-42ef-9298-83acf8d9dd12                     0.280556   \n",
       "0f29e857-fc08-45dd-b1ea-dde1e00c4a62                     0.552463   \n",
       "\n",
       "                                      feedback.score_string:accuracy error  \\\n",
       "61c40266-b994-49a2-8768-d54704cee079                             0.7  None   \n",
       "2dcfadff-51dc-458c-8af0-f47a795d0c9b                             0.7  None   \n",
       "a9c481ba-9ca5-408c-8c9c-f29127a70f7b                             0.9  None   \n",
       "98358188-6e36-42ef-9298-83acf8d9dd12                             0.7  None   \n",
       "0f29e857-fc08-45dd-b1ea-dde1e00c4a62                             0.7  None   \n",
       "\n",
       "                                      execution_time  \\\n",
       "61c40266-b994-49a2-8768-d54704cee079        4.358837   \n",
       "2dcfadff-51dc-458c-8af0-f47a795d0c9b        3.946547   \n",
       "a9c481ba-9ca5-408c-8c9c-f29127a70f7b        3.972396   \n",
       "98358188-6e36-42ef-9298-83acf8d9dd12        3.890567   \n",
       "0f29e857-fc08-45dd-b1ea-dde1e00c4a62        4.252478   \n",
       "\n",
       "                                                                    inputs.input_claude  \\\n",
       "61c40266-b994-49a2-8768-d54704cee079  ---  \\n|\\n\\nEvery business faces its set of cu...   \n",
       "2dcfadff-51dc-458c-8af0-f47a795d0c9b  Hello Jacob!\\n\\n  \\n\\nHave you noticed thesurg...   \n",
       "a9c481ba-9ca5-408c-8c9c-f29127a70f7b  Hi there,\\n\\n |  \\n---  \\n  \\nWe've updated ou...   \n",
       "98358188-6e36-42ef-9298-83acf8d9dd12  Consider all ways to give to  \\nSave the Redwo...   \n",
       "0f29e857-fc08-45dd-b1ea-dde1e00c4a62  Some travelers plan ahead; others prefer a bit...   \n",
       "\n",
       "                                                                  outputs.output_claude  \\\n",
       "61c40266-b994-49a2-8768-d54704cee079  {'sender': 'Sam', 'sender_phone_number': '800....   \n",
       "2dcfadff-51dc-458c-8af0-f47a795d0c9b  {'sender': 'Sam at EMC', 'sender_phone_number'...   \n",
       "a9c481ba-9ca5-408c-8c9c-f29127a70f7b  {'sender': None, 'sender_phone_number': None, ...   \n",
       "98358188-6e36-42ef-9298-83acf8d9dd12  {'sender': None, 'sender_phone_number': None, ...   \n",
       "0f29e857-fc08-45dd-b1ea-dde1e00c4a62  {'sender': 'Dunhill Vacations Inc.', 'sender_p...   \n",
       "\n",
       "                                                                       reference_claude  \\\n",
       "61c40266-b994-49a2-8768-d54704cee079  {'output': {'tone': 'positive', 'topic': 'Busi...   \n",
       "2dcfadff-51dc-458c-8af0-f47a795d0c9b  {'output': {'tone': 'positive', 'topic': 'Gree...   \n",
       "a9c481ba-9ca5-408c-8c9c-f29127a70f7b  {'output': {'tone': 'positive', 'topic': 'Upda...   \n",
       "98358188-6e36-42ef-9298-83acf8d9dd12  {'output': {'tone': 'positive', 'topic': 'Dona...   \n",
       "0f29e857-fc08-45dd-b1ea-dde1e00c4a62  {'output': {'tone': 'positive', 'topic': 'Trav...   \n",
       "\n",
       "                                      feedback.json_edit_distance_claude  \\\n",
       "61c40266-b994-49a2-8768-d54704cee079                            0.301242   \n",
       "2dcfadff-51dc-458c-8af0-f47a795d0c9b                            0.113879   \n",
       "a9c481ba-9ca5-408c-8c9c-f29127a70f7b                            0.343434   \n",
       "98358188-6e36-42ef-9298-83acf8d9dd12                            0.255556   \n",
       "0f29e857-fc08-45dd-b1ea-dde1e00c4a62                            0.584582   \n",
       "\n",
       "                                      feedback.score_string:accuracy_claude  \\\n",
       "61c40266-b994-49a2-8768-d54704cee079                                    0.7   \n",
       "2dcfadff-51dc-458c-8af0-f47a795d0c9b                                    0.7   \n",
       "a9c481ba-9ca5-408c-8c9c-f29127a70f7b                                    0.7   \n",
       "98358188-6e36-42ef-9298-83acf8d9dd12                                    0.3   \n",
       "0f29e857-fc08-45dd-b1ea-dde1e00c4a62                                    0.3   \n",
       "\n",
       "                                     error_claude  execution_time_claude  \n",
       "61c40266-b994-49a2-8768-d54704cee079         None              10.501042  \n",
       "2dcfadff-51dc-458c-8af0-f47a795d0c9b         None               8.511848  \n",
       "a9c481ba-9ca5-408c-8c9c-f29127a70f7b         None               9.739630  \n",
       "98358188-6e36-42ef-9298-83acf8d9dd12         None               9.640687  \n",
       "0f29e857-fc08-45dd-b1ea-dde1e00c4a62         None               6.803259  "
      ]
     },
     "execution_count": 32,
     "metadata": {},
     "output_type": "execute_result"
    }
   ],
   "source": [
    "df.head(5)"
   ]
  },
  {
   "cell_type": "code",
   "execution_count": 30,
   "id": "f2b570b4-8f09-4fe5-9c99-f6391dc34301",
   "metadata": {
    "tags": []
   },
   "outputs": [
    {
     "data": {
      "text/plain": [
       "(0.5664337704936568, 0.382351925386955)"
      ]
     },
     "execution_count": 30,
     "metadata": {},
     "output_type": "execute_result"
    }
   ],
   "source": [
    "(\n",
    "    df[\"feedback.json_edit_distance\"].mean(),\n",
    "    df[\"feedback.json_edit_distance_claude\"].mean(),\n",
    ")"
   ]
  },
  {
   "cell_type": "code",
   "execution_count": 33,
   "id": "d5fbeb46-79b4-4b90-817b-233a6caab9d8",
   "metadata": {
    "tags": []
   },
   "outputs": [
    {
     "data": {
      "text/plain": [
       "(0.48571428571428565, 0.5658536585365853)"
      ]
     },
     "execution_count": 33,
     "metadata": {},
     "output_type": "execute_result"
    }
   ],
   "source": [
    "(\n",
    "    df[\"feedback.score_string:accuracy\"].mean(),\n",
    "    df[\"feedback.score_string:accuracy_claude\"].mean(),\n",
    ")"
   ]
  },
  {
   "cell_type": "code",
   "execution_count": 46,
   "id": "f19b30ae-e51b-4364-999b-1a0c71836737",
   "metadata": {
    "tags": []
   },
   "outputs": [
    {
     "data": {
      "text/html": [
       "<div>\n",
       "<style scoped>\n",
       "    .dataframe tbody tr th:only-of-type {\n",
       "        vertical-align: middle;\n",
       "    }\n",
       "\n",
       "    .dataframe tbody tr th {\n",
       "        vertical-align: top;\n",
       "    }\n",
       "\n",
       "    .dataframe thead th {\n",
       "        text-align: right;\n",
       "    }\n",
       "</style>\n",
       "<table border=\"1\" class=\"dataframe\">\n",
       "  <thead>\n",
       "    <tr style=\"text-align: right;\">\n",
       "      <th></th>\n",
       "      <th>inputs.input</th>\n",
       "      <th>outputs.output</th>\n",
       "      <th>outputs.output_claude</th>\n",
       "    </tr>\n",
       "  </thead>\n",
       "  <tbody>\n",
       "    <tr>\n",
       "      <th>98358188-6e36-42ef-9298-83acf8d9dd12</th>\n",
       "      <td>Consider all ways to give to  \\nSave the Redwo...</td>\n",
       "      <td>{'sender': 'Tim Whalen', 'sender_address': 'Sa...</td>\n",
       "      <td>{'sender': None, 'sender_phone_number': None, ...</td>\n",
       "    </tr>\n",
       "    <tr>\n",
       "      <th>0f29e857-fc08-45dd-b1ea-dde1e00c4a62</th>\n",
       "      <td>Some travelers plan ahead; others prefer a bit...</td>\n",
       "      <td>{'sender': 'Dunhill Vacations Inc.', 'sender_a...</td>\n",
       "      <td>{'sender': 'Dunhill Vacations Inc.', 'sender_p...</td>\n",
       "    </tr>\n",
       "    <tr>\n",
       "      <th>35414bbc-4d38-41ed-876f-2a6a067e66d5</th>\n",
       "      <td>---  \\n  \\n|\\n\\nWe Passed the Stop Dangerous P...</td>\n",
       "      <td>{'sender': 'Matt Haney', 'sender_address': '10...</td>\n",
       "      <td>{'sender': 'Matt Haney', 'sender_phone_number'...</td>\n",
       "    </tr>\n",
       "    <tr>\n",
       "      <th>ff1b2ed6-26a7-4501-96aa-6e3e10eadc72</th>\n",
       "      <td>---  \\n|\\n\\n# We Provide Unique Financing Opti...</td>\n",
       "      <td>{'sender': 'info@championadvance.com', 'sender...</td>\n",
       "      <td>{'sender': None, 'sender_phone_number': None, ...</td>\n",
       "    </tr>\n",
       "  </tbody>\n",
       "</table>\n",
       "</div>"
      ],
      "text/plain": [
       "                                                                           inputs.input  \\\n",
       "98358188-6e36-42ef-9298-83acf8d9dd12  Consider all ways to give to  \\nSave the Redwo...   \n",
       "0f29e857-fc08-45dd-b1ea-dde1e00c4a62  Some travelers plan ahead; others prefer a bit...   \n",
       "35414bbc-4d38-41ed-876f-2a6a067e66d5  ---  \\n  \\n|\\n\\nWe Passed the Stop Dangerous P...   \n",
       "ff1b2ed6-26a7-4501-96aa-6e3e10eadc72  ---  \\n|\\n\\n# We Provide Unique Financing Opti...   \n",
       "\n",
       "                                                                         outputs.output  \\\n",
       "98358188-6e36-42ef-9298-83acf8d9dd12  {'sender': 'Tim Whalen', 'sender_address': 'Sa...   \n",
       "0f29e857-fc08-45dd-b1ea-dde1e00c4a62  {'sender': 'Dunhill Vacations Inc.', 'sender_a...   \n",
       "35414bbc-4d38-41ed-876f-2a6a067e66d5  {'sender': 'Matt Haney', 'sender_address': '10...   \n",
       "ff1b2ed6-26a7-4501-96aa-6e3e10eadc72  {'sender': 'info@championadvance.com', 'sender...   \n",
       "\n",
       "                                                                  outputs.output_claude  \n",
       "98358188-6e36-42ef-9298-83acf8d9dd12  {'sender': None, 'sender_phone_number': None, ...  \n",
       "0f29e857-fc08-45dd-b1ea-dde1e00c4a62  {'sender': 'Dunhill Vacations Inc.', 'sender_p...  \n",
       "35414bbc-4d38-41ed-876f-2a6a067e66d5  {'sender': 'Matt Haney', 'sender_phone_number'...  \n",
       "ff1b2ed6-26a7-4501-96aa-6e3e10eadc72  {'sender': None, 'sender_phone_number': None, ...  "
      ]
     },
     "execution_count": 46,
     "metadata": {},
     "output_type": "execute_result"
    }
   ],
   "source": [
    "# Rows for which OAI > Claude by at least 30%, according to the LLM-based evaluator\n",
    "oai_beats_claude = df[\n",
    "    (df[\"feedback.score_string:accuracy\"] - df[\"feedback.score_string:accuracy_claude\"])\n",
    "    >= 0.3\n",
    "]\n",
    "\n",
    "oai_beats_claude[[\"inputs.input\", \"outputs.output\", \"outputs.output_claude\"]]"
   ]
  },
  {
   "cell_type": "code",
   "execution_count": 51,
   "id": "9f81cc5e-bb0e-4b27-bfca-766c08ce0f2b",
   "metadata": {
    "tags": []
   },
   "outputs": [
    {
     "data": {
      "text/html": [
       "<div>\n",
       "<style scoped>\n",
       "    .dataframe tbody tr th:only-of-type {\n",
       "        vertical-align: middle;\n",
       "    }\n",
       "\n",
       "    .dataframe tbody tr th {\n",
       "        vertical-align: top;\n",
       "    }\n",
       "\n",
       "    .dataframe thead th {\n",
       "        text-align: right;\n",
       "    }\n",
       "</style>\n",
       "<table border=\"1\" class=\"dataframe\">\n",
       "  <thead>\n",
       "    <tr style=\"text-align: right;\">\n",
       "      <th></th>\n",
       "      <th>inputs.input</th>\n",
       "      <th>outputs.output</th>\n",
       "      <th>outputs.output_claude</th>\n",
       "    </tr>\n",
       "  </thead>\n",
       "  <tbody>\n",
       "    <tr>\n",
       "      <th>02cfdfc4-c3dc-47e6-ad44-8e437ebf2dce</th>\n",
       "      <td>---|---|---|---  \\n  \\n|  \\n---  \\n **Limited ...</td>\n",
       "      <td>{'action_items': [], 'topic': 'Limited Time Up...</td>\n",
       "      <td>{'sender': 'Dunhill Vacations Inc.', 'sender_p...</td>\n",
       "    </tr>\n",
       "    <tr>\n",
       "      <th>198dc232-8f98-484a-a65e-048cfb517282</th>\n",
       "      <td>Hello Jacob,\\n\\n  \\n\\nFor many small businesse...</td>\n",
       "      <td>{'sender': 'Sam at EMC', 'action_items': ['Kic...</td>\n",
       "      <td>{'sender': 'Sam at EMC', 'sender_phone_number'...</td>\n",
       "    </tr>\n",
       "    <tr>\n",
       "      <th>c222957f-cc7e-46af-9cca-1270f3fa5621</th>\n",
       "      <td>Hello Jacob,\\n\\n  \\n\\nDo you know what Fortune...</td>\n",
       "      <td>{'sender': 'Sam at EMC', 'action_items': ['qua...</td>\n",
       "      <td>{'sender': 'Sam at EMC', 'sender_phone_number'...</td>\n",
       "    </tr>\n",
       "    <tr>\n",
       "      <th>119ef037-8744-4eb9-93df-64458278e4f8</th>\n",
       "      <td>---  \\n|  |  QUALIFY NOW  \\n---  \\n \\n  \\nHell...</td>\n",
       "      <td>{'sender': 'Sam at EMC', 'action_items': ['Che...</td>\n",
       "      <td>{'sender': 'Sam at EMC id:2023-09-19-20:17:53:...</td>\n",
       "    </tr>\n",
       "  </tbody>\n",
       "</table>\n",
       "</div>"
      ],
      "text/plain": [
       "                                                                           inputs.input  \\\n",
       "02cfdfc4-c3dc-47e6-ad44-8e437ebf2dce  ---|---|---|---  \\n  \\n|  \\n---  \\n **Limited ...   \n",
       "198dc232-8f98-484a-a65e-048cfb517282  Hello Jacob,\\n\\n  \\n\\nFor many small businesse...   \n",
       "c222957f-cc7e-46af-9cca-1270f3fa5621  Hello Jacob,\\n\\n  \\n\\nDo you know what Fortune...   \n",
       "119ef037-8744-4eb9-93df-64458278e4f8  ---  \\n|  |  QUALIFY NOW  \\n---  \\n \\n  \\nHell...   \n",
       "\n",
       "                                                                         outputs.output  \\\n",
       "02cfdfc4-c3dc-47e6-ad44-8e437ebf2dce  {'action_items': [], 'topic': 'Limited Time Up...   \n",
       "198dc232-8f98-484a-a65e-048cfb517282  {'sender': 'Sam at EMC', 'action_items': ['Kic...   \n",
       "c222957f-cc7e-46af-9cca-1270f3fa5621  {'sender': 'Sam at EMC', 'action_items': ['qua...   \n",
       "119ef037-8744-4eb9-93df-64458278e4f8  {'sender': 'Sam at EMC', 'action_items': ['Che...   \n",
       "\n",
       "                                                                  outputs.output_claude  \n",
       "02cfdfc4-c3dc-47e6-ad44-8e437ebf2dce  {'sender': 'Dunhill Vacations Inc.', 'sender_p...  \n",
       "198dc232-8f98-484a-a65e-048cfb517282  {'sender': 'Sam at EMC', 'sender_phone_number'...  \n",
       "c222957f-cc7e-46af-9cca-1270f3fa5621  {'sender': 'Sam at EMC', 'sender_phone_number'...  \n",
       "119ef037-8744-4eb9-93df-64458278e4f8  {'sender': 'Sam at EMC id:2023-09-19-20:17:53:...  "
      ]
     },
     "execution_count": 51,
     "metadata": {},
     "output_type": "execute_result"
    }
   ],
   "source": [
    "# Rows for which Claude > OAI by at least 50%, according to the LLM-based evaluator\n",
    "oai_beats_claude = df[\n",
    "    (df[\"feedback.score_string:accuracy_claude\"] - df[\"feedback.score_string:accuracy\"])\n",
    "    >= 0.5\n",
    "]\n",
    "\n",
    "oai_beats_claude[[\"inputs.input\", \"outputs.output\", \"outputs.output_claude\"]]"
   ]
  },
  {
   "cell_type": "code",
   "execution_count": null,
   "id": "fa7f74a3-8cfe-48f1-ab85-249dc88aa307",
   "metadata": {},
   "outputs": [],
   "source": []
  }
 ],
 "metadata": {
  "kernelspec": {
   "display_name": "causalAnalysis",
   "language": "python",
   "name": "python3"
  },
  "language_info": {
   "codemirror_mode": {
    "name": "ipython",
    "version": 3
   },
   "file_extension": ".py",
   "mimetype": "text/x-python",
   "name": "python",
   "nbconvert_exporter": "python",
   "pygments_lexer": "ipython3",
   "version": "3.9.18"
  }
 },
 "nbformat": 4,
 "nbformat_minor": 5
}
