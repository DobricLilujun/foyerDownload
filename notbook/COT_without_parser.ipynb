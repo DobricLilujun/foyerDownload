{
 "cells": [
  {
   "cell_type": "markdown",
   "metadata": {},
   "source": [
    "# Chain-Of-Thought without Parser"
   ]
  },
  {
   "cell_type": "markdown",
   "metadata": {},
   "source": [
    "We define several meta task to be solved and finally get the final decision of whether an text content is a \"reminder\"."
   ]
  },
  {
   "cell_type": "code",
   "execution_count": null,
   "metadata": {},
   "outputs": [],
   "source": [
    "from langchain import LLMChain, PromptTemplate\n",
    "from langchain.llms import OpenAI\n",
    "\n",
    "# 1. Define a prompt to let the LLM know how to parse the emails\n",
    "template_parse = \"\"\"\n",
    "You are an expert in email parsing. I will provide you with a text that contains one or more email messages.\n",
    "Please determine how many emails are in the text. If there is only one email, return \"1\" and the email content.\n",
    "If there are multiple emails, return \"multiple\" and the content of the first email.\n",
    "\n",
    "Text: {email_text}\n",
    "\"\"\"\n",
    "\n",
    "prompt_parse = PromptTemplate(input_variables=[\"email_text\"], template=template)\n",
    "llm = OpenAI(temperature=0)\n",
    "\n",
    "\n",
    "# 2. Define a prompt to verify if the extracted email is the ****first**** in the text\n",
    "template_validation = \"\"\"\n",
    "You are an email validation expert. I will provide you with two parts: the entire text containing multiple emails and the extracted first email.\n",
    "Please confirm if the extracted email is indeed the first email in the text.\n",
    "\n",
    "Full text: {email_text}\n",
    "Extracted email: {extracted_email}\n",
    "\n",
    "If the extracted email matches the first email in the full text, return \"Yes\". Otherwise, return \"No\".\n",
    "\"\"\"\n",
    "\n",
    "prompt_validation = PromptTemplate(input_variables=[\"email_text\", \"extracted_email\"], template=template_validation)\n",
    "\n",
    "# 3. Define a prompt to check if the email is sent to a Foyer employee\n",
    "template_check_foyer = \"\"\"\n",
    "You are an email analysis expert. I will provide you with an email, and your task is to determine if the recipient is an employee of the Foyer company.\n",
    "You should check the email address to see if it ends with \"foyer.lu\", or check if the email content clearly indicates that the recipient is an internal Foyer employee or if the email was sent to Foyer itself.\n",
    "\n",
    "Email content: {email_content}\n",
    "\n",
    "If the recipient is a Foyer employee, return \"Yes\". If not, return \"No\", and explain why.\n",
    "\"\"\"\n",
    "\n",
    "prompt_check_foyer = PromptTemplate(input_variables=[\"email_content\"], template=template_check_foyer)\n",
    "\n",
    "\n",
    "# 4. Define a prompt to check if the email is a reminder to Foyer Insurance\n",
    "template_cls_reminder = \"\"\"\n",
    "You are an expert in analyzing emails. I will provide you with an email sent to Foyer Insurance or one of its employees.\n",
    "Your task is to determine if the email content qualifies as a \"reminder.\" A reminder typically meets one of the following conditions:\n",
    "1. It asks Foyer to reply to a previously sent email that has not yet received a response.\n",
    "2. It reminds Foyer to proceed with the payment of an insurance claim.\n",
    "3. It follows up on a previous request or email.\n",
    "4. It inquires about the status of an incomplete insurance claim.\n",
    "\n",
    "Based on these conditions, determine if the email is a reminder. If it is a reminder, return \"Yes\" and specify which condition it satisfies. If it is not a reminder, return \"No\".\n",
    "\n",
    "Email content: {email_content}\n",
    "\"\"\"\n",
    "prompt_cls_reminder = PromptTemplate(input_variables=[\"email_content\"], template=template_cls_reminder)\n",
    "\n",
    "\n",
    "# 5. Define a prompt to validate the reminder response\n",
    "template_validate_reminder = \"\"\"\n",
    "You are an expert in analyzing emails. Below is the original question about whether an email is a reminder, along with the answer provided.\n",
    "Please evaluate if the answer is correct. If the answer is incorrect, correct it and provide a brief explanation.\n",
    "\n",
    "Original question: {original_prompt}\n",
    "Response: {response}\n",
    "\n",
    "\"\"\"\n",
    "\n",
    "prompt_validate_reminder = PromptTemplate(\n",
    "    input_variables=[\"original_prompt\", \"response\"], \n",
    "    template=template_validate_reminder\n",
    ")\n"
   ]
  }
 ],
 "metadata": {
  "kernelspec": {
   "display_name": "causalLLM",
   "language": "python",
   "name": "python3"
  },
  "language_info": {
   "name": "python",
   "version": "3.9.18"
  }
 },
 "nbformat": 4,
 "nbformat_minor": 2
}
